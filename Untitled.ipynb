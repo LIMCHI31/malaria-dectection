{
 "cells": [
  {
   "cell_type": "code",
   "execution_count": 1,
   "id": "aae5a1d9-180f-4d11-8d76-5ed219776919",
   "metadata": {},
   "outputs": [],
   "source": [
    "import numpy as np"
   ]
  },
  {
   "cell_type": "code",
   "execution_count": 2,
   "id": "8f317391-694b-4b3a-8bbe-62f23816be08",
   "metadata": {},
   "outputs": [
    {
     "name": "stdout",
     "output_type": "stream",
     "text": [
      "(2,)\n",
      "(1, 2)\n"
     ]
    }
   ],
   "source": [
    "# using Numpy.expand_dims() method \n",
    "gfg = np.array([1, 2]) \n",
    "print(gfg.shape) \n",
    "\n",
    "gfg = np.expand_dims(gfg, axis = 0) \n",
    "print(gfg.shape) \n"
   ]
  },
  {
   "cell_type": "code",
   "execution_count": 30,
   "id": "824af56d-bc10-415c-a4e5-8cae4227859e",
   "metadata": {},
   "outputs": [],
   "source": [
    "shape = (0, 256, 256, 3)\n",
    "\n",
    "array = np.ones((i, 256, 256, 3)) * 2"
   ]
  },
  {
   "cell_type": "code",
   "execution_count": 34,
   "id": "63c1d539-aabe-4eac-a7b4-9529874d08cc",
   "metadata": {},
   "outputs": [],
   "source": [
    "d = array[30].shape"
   ]
  },
  {
   "cell_type": "code",
   "execution_count": 41,
   "id": "1befbe2d-d66a-4635-8b0e-0ddd3be01db6",
   "metadata": {},
   "outputs": [
    {
     "data": {
      "text/plain": [
       "(1, 3)"
      ]
     },
     "execution_count": 41,
     "metadata": {},
     "output_type": "execute_result"
    }
   ],
   "source": [
    "np.expand_dims(d, axis=0).shape"
   ]
  },
  {
   "cell_type": "code",
   "execution_count": 38,
   "id": "9730a430-1ee6-4427-af6b-32fe9e70b94e",
   "metadata": {},
   "outputs": [
    {
     "data": {
      "text/plain": [
       "(256, 256, 3)"
      ]
     },
     "execution_count": 38,
     "metadata": {},
     "output_type": "execute_result"
    }
   ],
   "source": [
    "array[30].shape"
   ]
  },
  {
   "cell_type": "code",
   "execution_count": 78,
   "id": "6adabb03-d0d9-4537-ba39-cee303e68354",
   "metadata": {},
   "outputs": [
    {
     "name": "stdout",
     "output_type": "stream",
     "text": [
      "(6, 6, 3)\n"
     ]
    }
   ],
   "source": [
    "# using Numpy.expand_dims() method \n",
    "gfg = np.array([[[1, 2, 3], [1, 2, 3], [1, 2, 3], [1, 2, 3], [1, 2, 3], [1, 2, 3]],\n",
    "               [[1, 2, 3], [1, 2, 3], [1, 2, 3], [1, 2, 3], [1, 2, 3], [1, 2, 3]],\n",
    "               [[1, 2, 3], [1, 2, 3], [1, 2, 3], [1, 2, 3], [1, 2, 3], [1, 2, 3]],\n",
    "               [[1, 2, 3], [1, 2, 3], [1, 2, 3], [1, 2, 3], [1, 2, 3], [1, 2, 3]],\n",
    "               [[1, 2, 3], [1, 2, 3], [1, 2, 3], [1, 2, 3], [1, 2, 3], [1, 2, 3]],\n",
    "                [[1, 2, 3], [1, 2, 3], [1, 2, 3], [1, 2, 3], [1, 2, 3], [1, 2, 3]]\n",
    "               ]) \n",
    "print(gfg.shape) \n",
    "  \n",
    "# gfg = np.expand_dims(gfg, axis = 0) \n",
    "# print(gfg.shape)"
   ]
  },
  {
   "cell_type": "code",
   "execution_count": 77,
   "id": "9a665194-6d14-46d0-98da-cb727cdfe599",
   "metadata": {},
   "outputs": [
    {
     "name": "stdout",
     "output_type": "stream",
     "text": [
      "(1, 6, 6, 3)\n"
     ]
    }
   ],
   "source": [
    "gfg = np.expand_dims(gfg, axis = 0) \n",
    "print(gfg.shape)"
   ]
  },
  {
   "cell_type": "code",
   "execution_count": 50,
   "id": "582e7b53-55d3-4b3b-9d9e-3ca11924c94a",
   "metadata": {},
   "outputs": [
    {
     "data": {
      "text/plain": [
       "array([[[1, 2, 3],\n",
       "        [1, 2, 3]]])"
      ]
     },
     "execution_count": 50,
     "metadata": {},
     "output_type": "execute_result"
    }
   ],
   "source": [
    "gfg"
   ]
  },
  {
   "cell_type": "code",
   "execution_count": null,
   "id": "11d18007-435f-4303-87c7-1971b541191a",
   "metadata": {},
   "outputs": [],
   "source": []
  },
  {
   "cell_type": "code",
   "execution_count": null,
   "id": "43237b97-d09d-4747-8c10-0cec66448eec",
   "metadata": {},
   "outputs": [],
   "source": []
  },
  {
   "cell_type": "code",
   "execution_count": null,
   "id": "13a190e6-6c42-48c6-afd9-4c9b2547f509",
   "metadata": {},
   "outputs": [],
   "source": []
  },
  {
   "cell_type": "code",
   "execution_count": null,
   "id": "04f69466-2762-4655-b1cc-2e62da5a29be",
   "metadata": {},
   "outputs": [],
   "source": []
  },
  {
   "cell_type": "code",
   "execution_count": null,
   "id": "fa6e518a-57a4-4534-b52f-89c30e162abc",
   "metadata": {},
   "outputs": [],
   "source": []
  },
  {
   "cell_type": "code",
   "execution_count": 65,
   "id": "b3b22159-bfde-435b-9622-d237da3f8780",
   "metadata": {},
   "outputs": [],
   "source": [
    "from PIL import Image"
   ]
  },
  {
   "cell_type": "code",
   "execution_count": 71,
   "id": "c53889d4-020d-4258-a26e-75c8113678d4",
   "metadata": {},
   "outputs": [],
   "source": [
    "# x = np.array(Image.open('tt.JPG'))"
   ]
  },
  {
   "cell_type": "code",
   "execution_count": 79,
   "id": "dec10273-c251-4e2d-9c2a-114b0c417244",
   "metadata": {},
   "outputs": [
    {
     "data": {
      "text/plain": [
       "((1, 256, 256, 3), (256, 256, 3))"
      ]
     },
     "execution_count": 79,
     "metadata": {},
     "output_type": "execute_result"
    }
   ],
   "source": [
    "(np.expand_dims(x, 0).shape, x.shape)"
   ]
  },
  {
   "cell_type": "code",
   "execution_count": null,
   "id": "055655ca-f32f-48a5-9bdc-30721e14bde5",
   "metadata": {},
   "outputs": [],
   "source": []
  },
  {
   "cell_type": "code",
   "execution_count": 84,
   "id": "e42b8ac9-69d9-460d-8175-97620216e48f",
   "metadata": {},
   "outputs": [],
   "source": [
    "image_size = 256\n",
    "batch_size = 32\n",
    "channels=3"
   ]
  },
  {
   "cell_type": "code",
   "execution_count": 85,
   "id": "1415ddc8-8f81-47e6-933e-c4af148bc5e7",
   "metadata": {},
   "outputs": [],
   "source": [
    "image_size = (image_size, image_size)"
   ]
  },
  {
   "cell_type": "code",
   "execution_count": 86,
   "id": "12dc06a4-acea-4ae7-bd30-748a423ebb17",
   "metadata": {},
   "outputs": [
    {
     "data": {
      "text/plain": [
       "(256, 256)"
      ]
     },
     "execution_count": 86,
     "metadata": {},
     "output_type": "execute_result"
    }
   ],
   "source": [
    "image_size"
   ]
  },
  {
   "cell_type": "code",
   "execution_count": 87,
   "id": "78cbf5cd-2914-4096-9288-44cccb3eb21a",
   "metadata": {},
   "outputs": [],
   "source": [
    "input_shape = (batch_size, image_size, image_size, channels)"
   ]
  },
  {
   "cell_type": "code",
   "execution_count": 88,
   "id": "bb7ffd71-e133-473a-8c48-864851c59223",
   "metadata": {},
   "outputs": [
    {
     "data": {
      "text/plain": [
       "(32, (256, 256), (256, 256), 3)"
      ]
     },
     "execution_count": 88,
     "metadata": {},
     "output_type": "execute_result"
    }
   ],
   "source": [
    "input_shape"
   ]
  },
  {
   "cell_type": "code",
   "execution_count": null,
   "id": "588db245-5de7-4c3b-8ea9-6dee575e9574",
   "metadata": {},
   "outputs": [],
   "source": []
  }
 ],
 "metadata": {
  "kernelspec": {
   "display_name": "Python 3 (ipykernel)",
   "language": "python",
   "name": "python3"
  },
  "language_info": {
   "codemirror_mode": {
    "name": "ipython",
    "version": 3
   },
   "file_extension": ".py",
   "mimetype": "text/x-python",
   "name": "python",
   "nbconvert_exporter": "python",
   "pygments_lexer": "ipython3",
   "version": "3.11.5"
  }
 },
 "nbformat": 4,
 "nbformat_minor": 5
}
